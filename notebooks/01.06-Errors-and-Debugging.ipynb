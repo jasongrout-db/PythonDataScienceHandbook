{
 "cells": [
  {
   "cell_type": "markdown",
   "metadata": {
    "application/vnd.databricks.v1+cell": {
     "cellMetadata": {},
     "inputWidgets": {},
     "nuid": "5da9e29d-dffe-4fa1-8c07-5211d38073a4",
     "showTitle": false,
     "title": ""
    }
   },
   "source": [
    "<!--BOOK_INFORMATION-->\n",
    "<img align=\"left\" style=\"padding-right:10px;\" src=\"figures/PDSH-cover-small.png\">\n",
    "\n",
    "*This notebook contains an excerpt from the [Python Data Science Handbook](http://shop.oreilly.com/product/0636920034919.do) by Jake VanderPlas; the content is available [on GitHub](https://github.com/jakevdp/PythonDataScienceHandbook).*\n",
    "\n",
    "*The text is released under the [CC-BY-NC-ND license](https://creativecommons.org/licenses/by-nc-nd/3.0/us/legalcode), and code is released under the [MIT license](https://opensource.org/licenses/MIT). If you find this content useful, please consider supporting the work by [buying the book](http://shop.oreilly.com/product/0636920034919.do)!*"
   ]
  },
  {
   "cell_type": "markdown",
   "metadata": {
    "application/vnd.databricks.v1+cell": {
     "cellMetadata": {},
     "inputWidgets": {},
     "nuid": "20c8cce3-d953-4947-b6d8-414f6205e2d1",
     "showTitle": false,
     "title": ""
    }
   },
   "source": [
    "<!--NAVIGATION-->\n",
    "< [IPython and Shell Commands](01.05-IPython-And-Shell-Commands.ipynb) | [Contents](Index.ipynb) | [Profiling and Timing Code](01.07-Timing-and-Profiling.ipynb) >\n",
    "\n",
    "<a href=\"https://colab.research.google.com/github/jakevdp/PythonDataScienceHandbook/blob/master/notebooks/01.06-Errors-and-Debugging.ipynb\"><img align=\"left\" src=\"https://colab.research.google.com/assets/colab-badge.svg\" alt=\"Open in Colab\" title=\"Open and Execute in Google Colaboratory\"></a>"
   ]
  },
  {
   "cell_type": "markdown",
   "metadata": {
    "application/vnd.databricks.v1+cell": {
     "cellMetadata": {},
     "inputWidgets": {},
     "nuid": "3a3afcb4-508f-4313-98d6-1ca8edc3738c",
     "showTitle": false,
     "title": ""
    }
   },
   "source": [
    "# Errors and Debugging"
   ]
  },
  {
   "cell_type": "markdown",
   "metadata": {
    "application/vnd.databricks.v1+cell": {
     "cellMetadata": {},
     "inputWidgets": {},
     "nuid": "b6e7aa51-2fa8-49e7-b5ea-eb966c910b2c",
     "showTitle": false,
     "title": ""
    }
   },
   "source": [
    "Code development and data analysis always require a bit of trial and error, and IPython contains tools to streamline this process.\n",
    "This section will briefly cover some options for controlling Python's exception reporting, followed by exploring tools for debugging errors in code."
   ]
  },
  {
   "cell_type": "markdown",
   "metadata": {
    "application/vnd.databricks.v1+cell": {
     "cellMetadata": {},
     "inputWidgets": {},
     "nuid": "af1b664b-64d6-49fe-9f13-8efd31443e46",
     "showTitle": false,
     "title": ""
    }
   },
   "source": [
    "## Controlling Exceptions: ``%xmode``\n",
    "\n",
    "Most of the time when a Python script fails, it will raise an Exception.\n",
    "When the interpreter hits one of these exceptions, information about the cause of the error can be found in the *traceback*, which can be accessed from within Python.\n",
    "With the ``%xmode`` magic function, IPython allows you to control the amount of information printed when the exception is raised.\n",
    "Consider the following code:"
   ]
  },
  {
   "cell_type": "code",
   "execution_count": 0,
   "metadata": {
    "application/vnd.databricks.v1+cell": {
     "cellMetadata": {},
     "inputWidgets": {},
     "nuid": "a97070f7-702f-4627-bf00-72ad985fb4ca",
     "showTitle": false,
     "title": ""
    },
    "collapsed": false
   },
   "outputs": [],
   "source": [
    "def func1(a, b):\n",
    "    return a / b\n",
    "\n",
    "def func2(x):\n",
    "    a = x\n",
    "    b = x - 1\n",
    "    return func1(a, b)"
   ]
  },
  {
   "cell_type": "code",
   "execution_count": 0,
   "metadata": {
    "application/vnd.databricks.v1+cell": {
     "cellMetadata": {},
     "inputWidgets": {},
     "nuid": "5b84b644-7871-4b9a-a310-b966fa95e686",
     "showTitle": false,
     "title": ""
    },
    "collapsed": false
   },
   "outputs": [
    {
     "output_type": "display_data",
     "data": {
      "text/plain": [
       "\u001B[0;31m---------------------------------------------------------------------------\u001B[0m\n\u001B[0;31mZeroDivisionError\u001B[0m                         Traceback (most recent call last)\n\u001B[0;32m<ipython-input-2-b2e110f6fc8f>\u001B[0m in \u001B[0;36m<module>\u001B[0;34m()\u001B[0m\n\u001B[0;32m----> 1\u001B[0;31m \u001B[0mfunc2\u001B[0m\u001B[0;34m(\u001B[0m\u001B[0;36m1\u001B[0m\u001B[0;34m)\u001B[0m\u001B[0;34m\u001B[0m\u001B[0m\n\u001B[0m\n\u001B[0;32m<ipython-input-1-d849e34d61fb>\u001B[0m in \u001B[0;36mfunc2\u001B[0;34m(x)\u001B[0m\n\u001B[1;32m      5\u001B[0m     \u001B[0ma\u001B[0m \u001B[0;34m=\u001B[0m \u001B[0mx\u001B[0m\u001B[0;34m\u001B[0m\u001B[0m\n\u001B[1;32m      6\u001B[0m     \u001B[0mb\u001B[0m \u001B[0;34m=\u001B[0m \u001B[0mx\u001B[0m \u001B[0;34m-\u001B[0m \u001B[0;36m1\u001B[0m\u001B[0;34m\u001B[0m\u001B[0m\n\u001B[0;32m----> 7\u001B[0;31m     \u001B[0;32mreturn\u001B[0m \u001B[0mfunc1\u001B[0m\u001B[0;34m(\u001B[0m\u001B[0ma\u001B[0m\u001B[0;34m,\u001B[0m \u001B[0mb\u001B[0m\u001B[0;34m)\u001B[0m\u001B[0;34m\u001B[0m\u001B[0m\n\u001B[0m\n\u001B[0;32m<ipython-input-1-d849e34d61fb>\u001B[0m in \u001B[0;36mfunc1\u001B[0;34m(a, b)\u001B[0m\n\u001B[1;32m      1\u001B[0m \u001B[0;32mdef\u001B[0m \u001B[0mfunc1\u001B[0m\u001B[0;34m(\u001B[0m\u001B[0ma\u001B[0m\u001B[0;34m,\u001B[0m \u001B[0mb\u001B[0m\u001B[0;34m)\u001B[0m\u001B[0;34m:\u001B[0m\u001B[0;34m\u001B[0m\u001B[0m\n\u001B[0;32m----> 2\u001B[0;31m     \u001B[0;32mreturn\u001B[0m \u001B[0ma\u001B[0m \u001B[0;34m/\u001B[0m \u001B[0mb\u001B[0m\u001B[0;34m\u001B[0m\u001B[0m\n\u001B[0m\u001B[1;32m      3\u001B[0m \u001B[0;34m\u001B[0m\u001B[0m\n\u001B[1;32m      4\u001B[0m \u001B[0;32mdef\u001B[0m \u001B[0mfunc2\u001B[0m\u001B[0;34m(\u001B[0m\u001B[0mx\u001B[0m\u001B[0;34m)\u001B[0m\u001B[0;34m:\u001B[0m\u001B[0;34m\u001B[0m\u001B[0m\n\u001B[1;32m      5\u001B[0m     \u001B[0ma\u001B[0m \u001B[0;34m=\u001B[0m \u001B[0mx\u001B[0m\u001B[0;34m\u001B[0m\u001B[0m\n\n\u001B[0;31mZeroDivisionError\u001B[0m: division by zero"
      ]
     },
     "metadata": {
      "application/vnd.databricks.v1+output": {
       "arguments": {},
       "data": "\u001B[0;31m---------------------------------------------------------------------------\u001B[0m\n\u001B[0;31mZeroDivisionError\u001B[0m                         Traceback (most recent call last)\n\u001B[0;32m<ipython-input-2-b2e110f6fc8f>\u001B[0m in \u001B[0;36m<module>\u001B[0;34m()\u001B[0m\n\u001B[0;32m----> 1\u001B[0;31m \u001B[0mfunc2\u001B[0m\u001B[0;34m(\u001B[0m\u001B[0;36m1\u001B[0m\u001B[0;34m)\u001B[0m\u001B[0;34m\u001B[0m\u001B[0m\n\u001B[0m\n\u001B[0;32m<ipython-input-1-d849e34d61fb>\u001B[0m in \u001B[0;36mfunc2\u001B[0;34m(x)\u001B[0m\n\u001B[1;32m      5\u001B[0m     \u001B[0ma\u001B[0m \u001B[0;34m=\u001B[0m \u001B[0mx\u001B[0m\u001B[0;34m\u001B[0m\u001B[0m\n\u001B[1;32m      6\u001B[0m     \u001B[0mb\u001B[0m \u001B[0;34m=\u001B[0m \u001B[0mx\u001B[0m \u001B[0;34m-\u001B[0m \u001B[0;36m1\u001B[0m\u001B[0;34m\u001B[0m\u001B[0m\n\u001B[0;32m----> 7\u001B[0;31m     \u001B[0;32mreturn\u001B[0m \u001B[0mfunc1\u001B[0m\u001B[0;34m(\u001B[0m\u001B[0ma\u001B[0m\u001B[0;34m,\u001B[0m \u001B[0mb\u001B[0m\u001B[0;34m)\u001B[0m\u001B[0;34m\u001B[0m\u001B[0m\n\u001B[0m\n\u001B[0;32m<ipython-input-1-d849e34d61fb>\u001B[0m in \u001B[0;36mfunc1\u001B[0;34m(a, b)\u001B[0m\n\u001B[1;32m      1\u001B[0m \u001B[0;32mdef\u001B[0m \u001B[0mfunc1\u001B[0m\u001B[0;34m(\u001B[0m\u001B[0ma\u001B[0m\u001B[0;34m,\u001B[0m \u001B[0mb\u001B[0m\u001B[0;34m)\u001B[0m\u001B[0;34m:\u001B[0m\u001B[0;34m\u001B[0m\u001B[0m\n\u001B[0;32m----> 2\u001B[0;31m     \u001B[0;32mreturn\u001B[0m \u001B[0ma\u001B[0m \u001B[0;34m/\u001B[0m \u001B[0mb\u001B[0m\u001B[0;34m\u001B[0m\u001B[0m\n\u001B[0m\u001B[1;32m      3\u001B[0m \u001B[0;34m\u001B[0m\u001B[0m\n\u001B[1;32m      4\u001B[0m \u001B[0;32mdef\u001B[0m \u001B[0mfunc2\u001B[0m\u001B[0;34m(\u001B[0m\u001B[0mx\u001B[0m\u001B[0;34m)\u001B[0m\u001B[0;34m:\u001B[0m\u001B[0;34m\u001B[0m\u001B[0m\n\u001B[1;32m      5\u001B[0m     \u001B[0ma\u001B[0m \u001B[0;34m=\u001B[0m \u001B[0mx\u001B[0m\u001B[0;34m\u001B[0m\u001B[0m\n\n\u001B[0;31mZeroDivisionError\u001B[0m: division by zero",
       "errorSummary": "<span class='ansi-red-fg'>ZeroDivisionError</span>: division by zero",
       "errorTraceType": "ansi",
       "metadata": {},
       "type": "ipynbError"
      }
     },
     "output_type": "display_data"
    }
   ],
   "source": [
    "func2(1)"
   ]
  },
  {
   "cell_type": "markdown",
   "metadata": {
    "application/vnd.databricks.v1+cell": {
     "cellMetadata": {},
     "inputWidgets": {},
     "nuid": "550bb587-f359-40cd-b2eb-b40a6ee56e50",
     "showTitle": false,
     "title": ""
    }
   },
   "source": [
    "Calling ``func2`` results in an error, and reading the printed trace lets us see exactly what happened.\n",
    "By default, this trace includes several lines showing the context of each step that led to the error.\n",
    "Using the ``%xmode`` magic function (short for *Exception mode*), we can change what information is printed.\n",
    "\n",
    "``%xmode`` takes a single argument, the mode, and there are three possibilities: ``Plain``, ``Context``, and ``Verbose``.\n",
    "The default is ``Context``, and gives output like that just shown before.\n",
    "``Plain`` is more compact and gives less information:"
   ]
  },
  {
   "cell_type": "code",
   "execution_count": 0,
   "metadata": {
    "application/vnd.databricks.v1+cell": {
     "cellMetadata": {},
     "inputWidgets": {},
     "nuid": "251421d2-955f-472a-ab3e-3c637767849e",
     "showTitle": false,
     "title": ""
    },
    "collapsed": false
   },
   "outputs": [
    {
     "output_type": "display_data",
     "data": {
      "text/plain": [
       "Exception reporting mode: Plain\n"
      ]
     },
     "metadata": {
      "application/vnd.databricks.v1+output": {
       "addedWidgets": {},
       "arguments": {},
       "data": "Exception reporting mode: Plain\n",
       "datasetInfos": [],
       "metadata": {},
       "removedWidgets": [],
       "type": "ansi"
      }
     },
     "output_type": "display_data"
    }
   ],
   "source": [
    "%xmode Plain"
   ]
  },
  {
   "cell_type": "code",
   "execution_count": 0,
   "metadata": {
    "application/vnd.databricks.v1+cell": {
     "cellMetadata": {},
     "inputWidgets": {},
     "nuid": "1873ac5b-712a-489e-891c-8563ba86d324",
     "showTitle": false,
     "title": ""
    },
    "collapsed": false
   },
   "outputs": [
    {
     "output_type": "display_data",
     "data": {
      "text/plain": [
       "Traceback \u001B[0;36m(most recent call last)\u001B[0m:\n\n  File \u001B[1;32m\"<ipython-input-4-b2e110f6fc8f>\"\u001B[0m, line \u001B[1;32m1\u001B[0m, in \u001B[1;35m<module>\u001B[0m\n    func2(1)\n\n  File \u001B[1;32m\"<ipython-input-1-d849e34d61fb>\"\u001B[0m, line \u001B[1;32m7\u001B[0m, in \u001B[1;35mfunc2\u001B[0m\n    return func1(a, b)\n\n\u001B[0;36m  File \u001B[0;32m\"<ipython-input-1-d849e34d61fb>\"\u001B[0;36m, line \u001B[0;32m2\u001B[0;36m, in \u001B[0;35mfunc1\u001B[0;36m\u001B[0m\n\u001B[0;31m    return a / b\u001B[0m\n\n\u001B[0;31mZeroDivisionError\u001B[0m\u001B[0;31m:\u001B[0m division by zero\n"
      ]
     },
     "metadata": {
      "application/vnd.databricks.v1+output": {
       "arguments": {},
       "data": "Traceback \u001B[0;36m(most recent call last)\u001B[0m:\n\n  File \u001B[1;32m\"<ipython-input-4-b2e110f6fc8f>\"\u001B[0m, line \u001B[1;32m1\u001B[0m, in \u001B[1;35m<module>\u001B[0m\n    func2(1)\n\n  File \u001B[1;32m\"<ipython-input-1-d849e34d61fb>\"\u001B[0m, line \u001B[1;32m7\u001B[0m, in \u001B[1;35mfunc2\u001B[0m\n    return func1(a, b)\n\n\u001B[0;36m  File \u001B[0;32m\"<ipython-input-1-d849e34d61fb>\"\u001B[0;36m, line \u001B[0;32m2\u001B[0;36m, in \u001B[0;35mfunc1\u001B[0;36m\u001B[0m\n\u001B[0;31m    return a / b\u001B[0m\n\n\u001B[0;31mZeroDivisionError\u001B[0m\u001B[0;31m:\u001B[0m division by zero\n",
       "errorSummary": "<span class='ansi-red-fg'>ZeroDivisionError</span>: division by zero",
       "errorTraceType": "ansi",
       "metadata": {},
       "type": "ipynbError"
      }
     },
     "output_type": "display_data"
    }
   ],
   "source": [
    "func2(1)"
   ]
  },
  {
   "cell_type": "markdown",
   "metadata": {
    "application/vnd.databricks.v1+cell": {
     "cellMetadata": {},
     "inputWidgets": {},
     "nuid": "9cacaa94-5e6e-405e-89e8-62afbb485817",
     "showTitle": false,
     "title": ""
    }
   },
   "source": [
    "The ``Verbose`` mode adds some extra information, including the arguments to any functions that are called:"
   ]
  },
  {
   "cell_type": "code",
   "execution_count": 0,
   "metadata": {
    "application/vnd.databricks.v1+cell": {
     "cellMetadata": {},
     "inputWidgets": {},
     "nuid": "15ec8942-a6cf-479f-b90d-5536fc5c667a",
     "showTitle": false,
     "title": ""
    },
    "collapsed": false
   },
   "outputs": [
    {
     "output_type": "display_data",
     "data": {
      "text/plain": [
       "Exception reporting mode: Verbose\n"
      ]
     },
     "metadata": {
      "application/vnd.databricks.v1+output": {
       "addedWidgets": {},
       "arguments": {},
       "data": "Exception reporting mode: Verbose\n",
       "datasetInfos": [],
       "metadata": {},
       "removedWidgets": [],
       "type": "ansi"
      }
     },
     "output_type": "display_data"
    }
   ],
   "source": [
    "%xmode Verbose"
   ]
  },
  {
   "cell_type": "code",
   "execution_count": 0,
   "metadata": {
    "application/vnd.databricks.v1+cell": {
     "cellMetadata": {},
     "inputWidgets": {},
     "nuid": "dc63073c-719b-46b8-b69e-d92227138aa3",
     "showTitle": false,
     "title": ""
    },
    "collapsed": false
   },
   "outputs": [
    {
     "output_type": "display_data",
     "data": {
      "text/plain": [
       "\u001B[0;31m---------------------------------------------------------------------------\u001B[0m\n\u001B[0;31mZeroDivisionError\u001B[0m                         Traceback (most recent call last)\n\u001B[0;32m<ipython-input-6-b2e110f6fc8f>\u001B[0m in \u001B[0;36m<module>\u001B[0;34m()\u001B[0m\n\u001B[0;32m----> 1\u001B[0;31m \u001B[0mfunc2\u001B[0m\u001B[0;34m(\u001B[0m\u001B[0;36m1\u001B[0m\u001B[0;34m)\u001B[0m\u001B[0;34m\u001B[0m\u001B[0m\n\u001B[0m        \u001B[0;36mglobal\u001B[0m \u001B[0;36mfunc2\u001B[0m \u001B[0;34m= <function func2 at 0x103729320>\u001B[0m\n\n\u001B[0;32m<ipython-input-1-d849e34d61fb>\u001B[0m in \u001B[0;36mfunc2\u001B[0;34m(x=1)\u001B[0m\n\u001B[1;32m      5\u001B[0m     \u001B[0ma\u001B[0m \u001B[0;34m=\u001B[0m \u001B[0mx\u001B[0m\u001B[0;34m\u001B[0m\u001B[0m\n\u001B[1;32m      6\u001B[0m     \u001B[0mb\u001B[0m \u001B[0;34m=\u001B[0m \u001B[0mx\u001B[0m \u001B[0;34m-\u001B[0m \u001B[0;36m1\u001B[0m\u001B[0;34m\u001B[0m\u001B[0m\n\u001B[0;32m----> 7\u001B[0;31m     \u001B[0;32mreturn\u001B[0m \u001B[0mfunc1\u001B[0m\u001B[0;34m(\u001B[0m\u001B[0ma\u001B[0m\u001B[0;34m,\u001B[0m \u001B[0mb\u001B[0m\u001B[0;34m)\u001B[0m\u001B[0;34m\u001B[0m\u001B[0m\n\u001B[0m        \u001B[0;36mglobal\u001B[0m \u001B[0;36mfunc1\u001B[0m \u001B[0;34m= <function func1 at 0x1037294d0>\u001B[0m\u001B[0;34m\n        \u001B[0m\u001B[0;36ma\u001B[0m \u001B[0;34m= 1\u001B[0m\u001B[0;34m\n        \u001B[0m\u001B[0;36mb\u001B[0m \u001B[0;34m= 0\u001B[0m\n\n\u001B[0;32m<ipython-input-1-d849e34d61fb>\u001B[0m in \u001B[0;36mfunc1\u001B[0;34m(a=1, b=0)\u001B[0m\n\u001B[1;32m      1\u001B[0m \u001B[0;32mdef\u001B[0m \u001B[0mfunc1\u001B[0m\u001B[0;34m(\u001B[0m\u001B[0ma\u001B[0m\u001B[0;34m,\u001B[0m \u001B[0mb\u001B[0m\u001B[0;34m)\u001B[0m\u001B[0;34m:\u001B[0m\u001B[0;34m\u001B[0m\u001B[0m\n\u001B[0;32m----> 2\u001B[0;31m     \u001B[0;32mreturn\u001B[0m \u001B[0ma\u001B[0m \u001B[0;34m/\u001B[0m \u001B[0mb\u001B[0m\u001B[0;34m\u001B[0m\u001B[0m\n\u001B[0m        \u001B[0;36ma\u001B[0m \u001B[0;34m= 1\u001B[0m\u001B[0;34m\n        \u001B[0m\u001B[0;36mb\u001B[0m \u001B[0;34m= 0\u001B[0m\n\u001B[1;32m      3\u001B[0m \u001B[0;34m\u001B[0m\u001B[0m\n\u001B[1;32m      4\u001B[0m \u001B[0;32mdef\u001B[0m \u001B[0mfunc2\u001B[0m\u001B[0;34m(\u001B[0m\u001B[0mx\u001B[0m\u001B[0;34m)\u001B[0m\u001B[0;34m:\u001B[0m\u001B[0;34m\u001B[0m\u001B[0m\n\u001B[1;32m      5\u001B[0m     \u001B[0ma\u001B[0m \u001B[0;34m=\u001B[0m \u001B[0mx\u001B[0m\u001B[0;34m\u001B[0m\u001B[0m\n\n\u001B[0;31mZeroDivisionError\u001B[0m: division by zero"
      ]
     },
     "metadata": {
      "application/vnd.databricks.v1+output": {
       "arguments": {},
       "data": "\u001B[0;31m---------------------------------------------------------------------------\u001B[0m\n\u001B[0;31mZeroDivisionError\u001B[0m                         Traceback (most recent call last)\n\u001B[0;32m<ipython-input-6-b2e110f6fc8f>\u001B[0m in \u001B[0;36m<module>\u001B[0;34m()\u001B[0m\n\u001B[0;32m----> 1\u001B[0;31m \u001B[0mfunc2\u001B[0m\u001B[0;34m(\u001B[0m\u001B[0;36m1\u001B[0m\u001B[0;34m)\u001B[0m\u001B[0;34m\u001B[0m\u001B[0m\n\u001B[0m        \u001B[0;36mglobal\u001B[0m \u001B[0;36mfunc2\u001B[0m \u001B[0;34m= <function func2 at 0x103729320>\u001B[0m\n\n\u001B[0;32m<ipython-input-1-d849e34d61fb>\u001B[0m in \u001B[0;36mfunc2\u001B[0;34m(x=1)\u001B[0m\n\u001B[1;32m      5\u001B[0m     \u001B[0ma\u001B[0m \u001B[0;34m=\u001B[0m \u001B[0mx\u001B[0m\u001B[0;34m\u001B[0m\u001B[0m\n\u001B[1;32m      6\u001B[0m     \u001B[0mb\u001B[0m \u001B[0;34m=\u001B[0m \u001B[0mx\u001B[0m \u001B[0;34m-\u001B[0m \u001B[0;36m1\u001B[0m\u001B[0;34m\u001B[0m\u001B[0m\n\u001B[0;32m----> 7\u001B[0;31m     \u001B[0;32mreturn\u001B[0m \u001B[0mfunc1\u001B[0m\u001B[0;34m(\u001B[0m\u001B[0ma\u001B[0m\u001B[0;34m,\u001B[0m \u001B[0mb\u001B[0m\u001B[0;34m)\u001B[0m\u001B[0;34m\u001B[0m\u001B[0m\n\u001B[0m        \u001B[0;36mglobal\u001B[0m \u001B[0;36mfunc1\u001B[0m \u001B[0;34m= <function func1 at 0x1037294d0>\u001B[0m\u001B[0;34m\n        \u001B[0m\u001B[0;36ma\u001B[0m \u001B[0;34m= 1\u001B[0m\u001B[0;34m\n        \u001B[0m\u001B[0;36mb\u001B[0m \u001B[0;34m= 0\u001B[0m\n\n\u001B[0;32m<ipython-input-1-d849e34d61fb>\u001B[0m in \u001B[0;36mfunc1\u001B[0;34m(a=1, b=0)\u001B[0m\n\u001B[1;32m      1\u001B[0m \u001B[0;32mdef\u001B[0m \u001B[0mfunc1\u001B[0m\u001B[0;34m(\u001B[0m\u001B[0ma\u001B[0m\u001B[0;34m,\u001B[0m \u001B[0mb\u001B[0m\u001B[0;34m)\u001B[0m\u001B[0;34m:\u001B[0m\u001B[0;34m\u001B[0m\u001B[0m\n\u001B[0;32m----> 2\u001B[0;31m     \u001B[0;32mreturn\u001B[0m \u001B[0ma\u001B[0m \u001B[0;34m/\u001B[0m \u001B[0mb\u001B[0m\u001B[0;34m\u001B[0m\u001B[0m\n\u001B[0m        \u001B[0;36ma\u001B[0m \u001B[0;34m= 1\u001B[0m\u001B[0;34m\n        \u001B[0m\u001B[0;36mb\u001B[0m \u001B[0;34m= 0\u001B[0m\n\u001B[1;32m      3\u001B[0m \u001B[0;34m\u001B[0m\u001B[0m\n\u001B[1;32m      4\u001B[0m \u001B[0;32mdef\u001B[0m \u001B[0mfunc2\u001B[0m\u001B[0;34m(\u001B[0m\u001B[0mx\u001B[0m\u001B[0;34m)\u001B[0m\u001B[0;34m:\u001B[0m\u001B[0;34m\u001B[0m\u001B[0m\n\u001B[1;32m      5\u001B[0m     \u001B[0ma\u001B[0m \u001B[0;34m=\u001B[0m \u001B[0mx\u001B[0m\u001B[0;34m\u001B[0m\u001B[0m\n\n\u001B[0;31mZeroDivisionError\u001B[0m: division by zero",
       "errorSummary": "<span class='ansi-red-fg'>ZeroDivisionError</span>: division by zero",
       "errorTraceType": "ansi",
       "metadata": {},
       "type": "ipynbError"
      }
     },
     "output_type": "display_data"
    }
   ],
   "source": [
    "func2(1)"
   ]
  },
  {
   "cell_type": "markdown",
   "metadata": {
    "application/vnd.databricks.v1+cell": {
     "cellMetadata": {},
     "inputWidgets": {},
     "nuid": "af32b111-4745-4390-bb64-92dee9f8920f",
     "showTitle": false,
     "title": ""
    }
   },
   "source": [
    "This extra information can help narrow-in on why the exception is being raised.\n",
    "So why not use the ``Verbose`` mode all the time?\n",
    "As code gets complicated, this kind of traceback can get extremely long.\n",
    "Depending on the context, sometimes the brevity of ``Default`` mode is easier to work with."
   ]
  },
  {
   "cell_type": "markdown",
   "metadata": {
    "application/vnd.databricks.v1+cell": {
     "cellMetadata": {},
     "inputWidgets": {},
     "nuid": "cbeac3f7-400f-47ef-816c-8e351e292c2a",
     "showTitle": false,
     "title": ""
    }
   },
   "source": [
    "## Debugging: When Reading Tracebacks Is Not Enough\n",
    "\n",
    "The standard Python tool for interactive debugging is ``pdb``, the Python debugger.\n",
    "This debugger lets the user step through the code line by line in order to see what might be causing a more difficult error.\n",
    "The IPython-enhanced version of this is ``ipdb``, the IPython debugger.\n",
    "\n",
    "There are many ways to launch and use both these debuggers; we won't cover them fully here.\n",
    "Refer to the online documentation of these two utilities to learn more.\n",
    "\n",
    "In IPython, perhaps the most convenient interface to debugging is the ``%debug`` magic command.\n",
    "If you call it after hitting an exception, it will automatically open an interactive debugging prompt at the point of the exception.\n",
    "The ``ipdb`` prompt lets you explore the current state of the stack, explore the available variables, and even run Python commands!\n",
    "\n",
    "Let's look at the most recent exception, then do some basic tasks–print the values of ``a`` and ``b``, and type ``quit`` to quit the debugging session:"
   ]
  },
  {
   "cell_type": "code",
   "execution_count": 0,
   "metadata": {
    "application/vnd.databricks.v1+cell": {
     "cellMetadata": {},
     "inputWidgets": {},
     "nuid": "28ec8e94-7a3e-4b76-b261-69905c7ecffb",
     "showTitle": false,
     "title": ""
    },
    "collapsed": false
   },
   "outputs": [
    {
     "output_type": "display_data",
     "data": {
      "text/plain": [
       "> \u001B[0;32m<ipython-input-1-d849e34d61fb>\u001B[0m(2)\u001B[0;36mfunc1\u001B[0;34m()\u001B[0m\n\u001B[0;32m      1 \u001B[0;31m\u001B[0;32mdef\u001B[0m \u001B[0mfunc1\u001B[0m\u001B[0;34m(\u001B[0m\u001B[0ma\u001B[0m\u001B[0;34m,\u001B[0m \u001B[0mb\u001B[0m\u001B[0;34m)\u001B[0m\u001B[0;34m:\u001B[0m\u001B[0;34m\u001B[0m\u001B[0m\n\u001B[0m\u001B[0;32m----> 2 \u001B[0;31m    \u001B[0;32mreturn\u001B[0m \u001B[0ma\u001B[0m \u001B[0;34m/\u001B[0m \u001B[0mb\u001B[0m\u001B[0;34m\u001B[0m\u001B[0m\n\u001B[0m\u001B[0;32m      3 \u001B[0;31m\u001B[0;34m\u001B[0m\u001B[0m\n\u001B[0m\nipdb> print(a)\n1\nipdb> print(b)\n0\nipdb> quit\n"
      ]
     },
     "metadata": {
      "application/vnd.databricks.v1+output": {
       "addedWidgets": {},
       "arguments": {},
       "data": "> \u001B[0;32m<ipython-input-1-d849e34d61fb>\u001B[0m(2)\u001B[0;36mfunc1\u001B[0;34m()\u001B[0m\n\u001B[0;32m      1 \u001B[0;31m\u001B[0;32mdef\u001B[0m \u001B[0mfunc1\u001B[0m\u001B[0;34m(\u001B[0m\u001B[0ma\u001B[0m\u001B[0;34m,\u001B[0m \u001B[0mb\u001B[0m\u001B[0;34m)\u001B[0m\u001B[0;34m:\u001B[0m\u001B[0;34m\u001B[0m\u001B[0m\n\u001B[0m\u001B[0;32m----> 2 \u001B[0;31m    \u001B[0;32mreturn\u001B[0m \u001B[0ma\u001B[0m \u001B[0;34m/\u001B[0m \u001B[0mb\u001B[0m\u001B[0;34m\u001B[0m\u001B[0m\n\u001B[0m\u001B[0;32m      3 \u001B[0;31m\u001B[0;34m\u001B[0m\u001B[0m\n\u001B[0m\nipdb> print(a)\n1\nipdb> print(b)\n0\nipdb> quit\n",
       "datasetInfos": [],
       "metadata": {},
       "removedWidgets": [],
       "type": "ansi"
      }
     },
     "output_type": "display_data"
    }
   ],
   "source": [
    "%debug"
   ]
  },
  {
   "cell_type": "markdown",
   "metadata": {
    "application/vnd.databricks.v1+cell": {
     "cellMetadata": {},
     "inputWidgets": {},
     "nuid": "06297512-ba53-48d2-85df-f6b1669bffc8",
     "showTitle": false,
     "title": ""
    }
   },
   "source": [
    "The interactive debugger allows much more than this, though–we can even step up and down through the stack and explore the values of variables there:"
   ]
  },
  {
   "cell_type": "code",
   "execution_count": 0,
   "metadata": {
    "application/vnd.databricks.v1+cell": {
     "cellMetadata": {},
     "inputWidgets": {},
     "nuid": "8a41dc98-ce06-44db-87c1-0e113c102312",
     "showTitle": false,
     "title": ""
    },
    "collapsed": false
   },
   "outputs": [
    {
     "output_type": "display_data",
     "data": {
      "text/plain": [
       "> \u001B[0;32m<ipython-input-1-d849e34d61fb>\u001B[0m(2)\u001B[0;36mfunc1\u001B[0;34m()\u001B[0m\n\u001B[0;32m      1 \u001B[0;31m\u001B[0;32mdef\u001B[0m \u001B[0mfunc1\u001B[0m\u001B[0;34m(\u001B[0m\u001B[0ma\u001B[0m\u001B[0;34m,\u001B[0m \u001B[0mb\u001B[0m\u001B[0;34m)\u001B[0m\u001B[0;34m:\u001B[0m\u001B[0;34m\u001B[0m\u001B[0m\n\u001B[0m\u001B[0;32m----> 2 \u001B[0;31m    \u001B[0;32mreturn\u001B[0m \u001B[0ma\u001B[0m \u001B[0;34m/\u001B[0m \u001B[0mb\u001B[0m\u001B[0;34m\u001B[0m\u001B[0m\n\u001B[0m\u001B[0;32m      3 \u001B[0;31m\u001B[0;34m\u001B[0m\u001B[0m\n\u001B[0m\nipdb> up\n> \u001B[0;32m<ipython-input-1-d849e34d61fb>\u001B[0m(7)\u001B[0;36mfunc2\u001B[0;34m()\u001B[0m\n\u001B[0;32m      5 \u001B[0;31m    \u001B[0ma\u001B[0m \u001B[0;34m=\u001B[0m \u001B[0mx\u001B[0m\u001B[0;34m\u001B[0m\u001B[0m\n\u001B[0m\u001B[0;32m      6 \u001B[0;31m    \u001B[0mb\u001B[0m \u001B[0;34m=\u001B[0m \u001B[0mx\u001B[0m \u001B[0;34m-\u001B[0m \u001B[0;36m1\u001B[0m\u001B[0;34m\u001B[0m\u001B[0m\n\u001B[0m\u001B[0;32m----> 7 \u001B[0;31m    \u001B[0;32mreturn\u001B[0m \u001B[0mfunc1\u001B[0m\u001B[0;34m(\u001B[0m\u001B[0ma\u001B[0m\u001B[0;34m,\u001B[0m \u001B[0mb\u001B[0m\u001B[0;34m)\u001B[0m\u001B[0;34m\u001B[0m\u001B[0m\n\u001B[0m\nipdb> print(x)\n1\nipdb> up\n> \u001B[0;32m<ipython-input-6-b2e110f6fc8f>\u001B[0m(1)\u001B[0;36m<module>\u001B[0;34m()\u001B[0m\n\u001B[0;32m----> 1 \u001B[0;31m\u001B[0mfunc2\u001B[0m\u001B[0;34m(\u001B[0m\u001B[0;36m1\u001B[0m\u001B[0;34m)\u001B[0m\u001B[0;34m\u001B[0m\u001B[0m\n\u001B[0m\nipdb> down\n> \u001B[0;32m<ipython-input-1-d849e34d61fb>\u001B[0m(7)\u001B[0;36mfunc2\u001B[0;34m()\u001B[0m\n\u001B[0;32m      5 \u001B[0;31m    \u001B[0ma\u001B[0m \u001B[0;34m=\u001B[0m \u001B[0mx\u001B[0m\u001B[0;34m\u001B[0m\u001B[0m\n\u001B[0m\u001B[0;32m      6 \u001B[0;31m    \u001B[0mb\u001B[0m \u001B[0;34m=\u001B[0m \u001B[0mx\u001B[0m \u001B[0;34m-\u001B[0m \u001B[0;36m1\u001B[0m\u001B[0;34m\u001B[0m\u001B[0m\n\u001B[0m\u001B[0;32m----> 7 \u001B[0;31m    \u001B[0;32mreturn\u001B[0m \u001B[0mfunc1\u001B[0m\u001B[0;34m(\u001B[0m\u001B[0ma\u001B[0m\u001B[0;34m,\u001B[0m \u001B[0mb\u001B[0m\u001B[0;34m)\u001B[0m\u001B[0;34m\u001B[0m\u001B[0m\n\u001B[0m\nipdb> quit\n"
      ]
     },
     "metadata": {
      "application/vnd.databricks.v1+output": {
       "addedWidgets": {},
       "arguments": {},
       "data": "> \u001B[0;32m<ipython-input-1-d849e34d61fb>\u001B[0m(2)\u001B[0;36mfunc1\u001B[0;34m()\u001B[0m\n\u001B[0;32m      1 \u001B[0;31m\u001B[0;32mdef\u001B[0m \u001B[0mfunc1\u001B[0m\u001B[0;34m(\u001B[0m\u001B[0ma\u001B[0m\u001B[0;34m,\u001B[0m \u001B[0mb\u001B[0m\u001B[0;34m)\u001B[0m\u001B[0;34m:\u001B[0m\u001B[0;34m\u001B[0m\u001B[0m\n\u001B[0m\u001B[0;32m----> 2 \u001B[0;31m    \u001B[0;32mreturn\u001B[0m \u001B[0ma\u001B[0m \u001B[0;34m/\u001B[0m \u001B[0mb\u001B[0m\u001B[0;34m\u001B[0m\u001B[0m\n\u001B[0m\u001B[0;32m      3 \u001B[0;31m\u001B[0;34m\u001B[0m\u001B[0m\n\u001B[0m\nipdb> up\n> \u001B[0;32m<ipython-input-1-d849e34d61fb>\u001B[0m(7)\u001B[0;36mfunc2\u001B[0;34m()\u001B[0m\n\u001B[0;32m      5 \u001B[0;31m    \u001B[0ma\u001B[0m \u001B[0;34m=\u001B[0m \u001B[0mx\u001B[0m\u001B[0;34m\u001B[0m\u001B[0m\n\u001B[0m\u001B[0;32m      6 \u001B[0;31m    \u001B[0mb\u001B[0m \u001B[0;34m=\u001B[0m \u001B[0mx\u001B[0m \u001B[0;34m-\u001B[0m \u001B[0;36m1\u001B[0m\u001B[0;34m\u001B[0m\u001B[0m\n\u001B[0m\u001B[0;32m----> 7 \u001B[0;31m    \u001B[0;32mreturn\u001B[0m \u001B[0mfunc1\u001B[0m\u001B[0;34m(\u001B[0m\u001B[0ma\u001B[0m\u001B[0;34m,\u001B[0m \u001B[0mb\u001B[0m\u001B[0;34m)\u001B[0m\u001B[0;34m\u001B[0m\u001B[0m\n\u001B[0m\nipdb> print(x)\n1\nipdb> up\n> \u001B[0;32m<ipython-input-6-b2e110f6fc8f>\u001B[0m(1)\u001B[0;36m<module>\u001B[0;34m()\u001B[0m\n\u001B[0;32m----> 1 \u001B[0;31m\u001B[0mfunc2\u001B[0m\u001B[0;34m(\u001B[0m\u001B[0;36m1\u001B[0m\u001B[0;34m)\u001B[0m\u001B[0;34m\u001B[0m\u001B[0m\n\u001B[0m\nipdb> down\n> \u001B[0;32m<ipython-input-1-d849e34d61fb>\u001B[0m(7)\u001B[0;36mfunc2\u001B[0;34m()\u001B[0m\n\u001B[0;32m      5 \u001B[0;31m    \u001B[0ma\u001B[0m \u001B[0;34m=\u001B[0m \u001B[0mx\u001B[0m\u001B[0;34m\u001B[0m\u001B[0m\n\u001B[0m\u001B[0;32m      6 \u001B[0;31m    \u001B[0mb\u001B[0m \u001B[0;34m=\u001B[0m \u001B[0mx\u001B[0m \u001B[0;34m-\u001B[0m \u001B[0;36m1\u001B[0m\u001B[0;34m\u001B[0m\u001B[0m\n\u001B[0m\u001B[0;32m----> 7 \u001B[0;31m    \u001B[0;32mreturn\u001B[0m \u001B[0mfunc1\u001B[0m\u001B[0;34m(\u001B[0m\u001B[0ma\u001B[0m\u001B[0;34m,\u001B[0m \u001B[0mb\u001B[0m\u001B[0;34m)\u001B[0m\u001B[0;34m\u001B[0m\u001B[0m\n\u001B[0m\nipdb> quit\n",
       "datasetInfos": [],
       "metadata": {},
       "removedWidgets": [],
       "type": "ansi"
      }
     },
     "output_type": "display_data"
    }
   ],
   "source": [
    "%debug"
   ]
  },
  {
   "cell_type": "markdown",
   "metadata": {
    "application/vnd.databricks.v1+cell": {
     "cellMetadata": {},
     "inputWidgets": {},
     "nuid": "082237bd-ce7d-4da1-93b1-c4de351c52bf",
     "showTitle": false,
     "title": ""
    }
   },
   "source": [
    "This allows you to quickly find out not only what caused the error, but what function calls led up to the error.\n",
    "\n",
    "If you'd like the debugger to launch automatically whenever an exception is raised, you can use the ``%pdb`` magic function to turn on this automatic behavior:"
   ]
  },
  {
   "cell_type": "code",
   "execution_count": 0,
   "metadata": {
    "application/vnd.databricks.v1+cell": {
     "cellMetadata": {},
     "inputWidgets": {},
     "nuid": "3c8ca945-0fcf-424e-a1a0-acbe13572ecc",
     "showTitle": false,
     "title": ""
    },
    "collapsed": false
   },
   "outputs": [
    {
     "output_type": "display_data",
     "data": {
      "text/plain": [
       "Exception reporting mode: Plain\nAutomatic pdb calling has been turned ON\n"
      ]
     },
     "metadata": {
      "application/vnd.databricks.v1+output": {
       "addedWidgets": {},
       "arguments": {},
       "data": "Exception reporting mode: Plain\nAutomatic pdb calling has been turned ON\n",
       "datasetInfos": [],
       "metadata": {},
       "removedWidgets": [],
       "type": "ansi"
      }
     },
     "output_type": "display_data"
    },
    {
     "output_type": "display_data",
     "data": {
      "text/plain": [
       "Traceback \u001B[0;36m(most recent call last)\u001B[0m:\n\n  File \u001B[1;32m\"<ipython-input-9-569a67d2d312>\"\u001B[0m, line \u001B[1;32m3\u001B[0m, in \u001B[1;35m<module>\u001B[0m\n    func2(1)\n\n  File \u001B[1;32m\"<ipython-input-1-d849e34d61fb>\"\u001B[0m, line \u001B[1;32m7\u001B[0m, in \u001B[1;35mfunc2\u001B[0m\n    return func1(a, b)\n\n\u001B[0;36m  File \u001B[0;32m\"<ipython-input-1-d849e34d61fb>\"\u001B[0;36m, line \u001B[0;32m2\u001B[0;36m, in \u001B[0;35mfunc1\u001B[0;36m\u001B[0m\n\u001B[0;31m    return a / b\u001B[0m\n\n\u001B[0;31mZeroDivisionError\u001B[0m\u001B[0;31m:\u001B[0m division by zero\n"
      ]
     },
     "metadata": {
      "application/vnd.databricks.v1+output": {
       "arguments": {},
       "data": "Traceback \u001B[0;36m(most recent call last)\u001B[0m:\n\n  File \u001B[1;32m\"<ipython-input-9-569a67d2d312>\"\u001B[0m, line \u001B[1;32m3\u001B[0m, in \u001B[1;35m<module>\u001B[0m\n    func2(1)\n\n  File \u001B[1;32m\"<ipython-input-1-d849e34d61fb>\"\u001B[0m, line \u001B[1;32m7\u001B[0m, in \u001B[1;35mfunc2\u001B[0m\n    return func1(a, b)\n\n\u001B[0;36m  File \u001B[0;32m\"<ipython-input-1-d849e34d61fb>\"\u001B[0;36m, line \u001B[0;32m2\u001B[0;36m, in \u001B[0;35mfunc1\u001B[0;36m\u001B[0m\n\u001B[0;31m    return a / b\u001B[0m\n\n\u001B[0;31mZeroDivisionError\u001B[0m\u001B[0;31m:\u001B[0m division by zero\n",
       "errorSummary": "<span class='ansi-red-fg'>ZeroDivisionError</span>: division by zero",
       "errorTraceType": "ansi",
       "metadata": {},
       "type": "ipynbError"
      }
     },
     "output_type": "display_data"
    },
    {
     "output_type": "display_data",
     "data": {
      "text/plain": [
       "> \u001B[0;32m<ipython-input-1-d849e34d61fb>\u001B[0m(2)\u001B[0;36mfunc1\u001B[0;34m()\u001B[0m\n\u001B[0;32m      1 \u001B[0;31m\u001B[0;32mdef\u001B[0m \u001B[0mfunc1\u001B[0m\u001B[0;34m(\u001B[0m\u001B[0ma\u001B[0m\u001B[0;34m,\u001B[0m \u001B[0mb\u001B[0m\u001B[0;34m)\u001B[0m\u001B[0;34m:\u001B[0m\u001B[0;34m\u001B[0m\u001B[0m\n\u001B[0m\u001B[0;32m----> 2 \u001B[0;31m    \u001B[0;32mreturn\u001B[0m \u001B[0ma\u001B[0m \u001B[0;34m/\u001B[0m \u001B[0mb\u001B[0m\u001B[0;34m\u001B[0m\u001B[0m\n\u001B[0m\u001B[0;32m      3 \u001B[0;31m\u001B[0;34m\u001B[0m\u001B[0m\n\u001B[0m\nipdb> print(b)\n0\nipdb> quit\n"
      ]
     },
     "metadata": {
      "application/vnd.databricks.v1+output": {
       "addedWidgets": {},
       "arguments": {},
       "data": "> \u001B[0;32m<ipython-input-1-d849e34d61fb>\u001B[0m(2)\u001B[0;36mfunc1\u001B[0;34m()\u001B[0m\n\u001B[0;32m      1 \u001B[0;31m\u001B[0;32mdef\u001B[0m \u001B[0mfunc1\u001B[0m\u001B[0;34m(\u001B[0m\u001B[0ma\u001B[0m\u001B[0;34m,\u001B[0m \u001B[0mb\u001B[0m\u001B[0;34m)\u001B[0m\u001B[0;34m:\u001B[0m\u001B[0;34m\u001B[0m\u001B[0m\n\u001B[0m\u001B[0;32m----> 2 \u001B[0;31m    \u001B[0;32mreturn\u001B[0m \u001B[0ma\u001B[0m \u001B[0;34m/\u001B[0m \u001B[0mb\u001B[0m\u001B[0;34m\u001B[0m\u001B[0m\n\u001B[0m\u001B[0;32m      3 \u001B[0;31m\u001B[0;34m\u001B[0m\u001B[0m\n\u001B[0m\nipdb> print(b)\n0\nipdb> quit\n",
       "datasetInfos": [],
       "metadata": {},
       "removedWidgets": [],
       "type": "ansi"
      }
     },
     "output_type": "display_data"
    }
   ],
   "source": [
    "%xmode Plain\n",
    "%pdb on\n",
    "func2(1)"
   ]
  },
  {
   "cell_type": "markdown",
   "metadata": {
    "application/vnd.databricks.v1+cell": {
     "cellMetadata": {},
     "inputWidgets": {},
     "nuid": "2e86a587-3172-451c-a506-6943c94aaa3e",
     "showTitle": false,
     "title": ""
    }
   },
   "source": [
    "Finally, if you have a script that you'd like to run from the beginning in interactive mode, you can run it with the command ``%run -d``, and use the ``next`` command to step through the lines of code interactively."
   ]
  },
  {
   "cell_type": "markdown",
   "metadata": {
    "application/vnd.databricks.v1+cell": {
     "cellMetadata": {},
     "inputWidgets": {},
     "nuid": "c67d7869-67a5-4ac0-bd81-bb9a239001f0",
     "showTitle": false,
     "title": ""
    }
   },
   "source": [
    "### Partial list of debugging commands\n",
    "\n",
    "There are many more available commands for interactive debugging than we've listed here; the following table contains a description of some of the more common and useful ones:\n",
    "\n",
    "| Command         |  Description                                                |\n",
    "|-----------------|-------------------------------------------------------------|\n",
    "| ``list``        | Show the current location in the file                       |\n",
    "| ``h(elp)``      | Show a list of commands, or find help on a specific command |\n",
    "| ``q(uit)``      | Quit the debugger and the program                           |\n",
    "| ``c(ontinue)``  | Quit the debugger, continue in the program                  |\n",
    "| ``n(ext)``      | Go to the next step of the program                          |\n",
    "| ``<enter>``     | Repeat the previous command                                 |\n",
    "| ``p(rint)``     | Print variables                                             |\n",
    "| ``s(tep)``      | Step into a subroutine                                      |\n",
    "| ``r(eturn)``    | Return out of a subroutine                                  |\n",
    "\n",
    "For more information, use the ``help`` command in the debugger, or take a look at ``ipdb``'s [online documentation](https://github.com/gotcha/ipdb)."
   ]
  },
  {
   "cell_type": "markdown",
   "metadata": {
    "application/vnd.databricks.v1+cell": {
     "cellMetadata": {},
     "inputWidgets": {},
     "nuid": "55a64aab-be2f-4555-a19f-2b249b7c57ca",
     "showTitle": false,
     "title": ""
    }
   },
   "source": [
    "<!--NAVIGATION-->\n",
    "< [IPython and Shell Commands](01.05-IPython-And-Shell-Commands.ipynb) | [Contents](Index.ipynb) | [Profiling and Timing Code](01.07-Timing-and-Profiling.ipynb) >\n",
    "\n",
    "<a href=\"https://colab.research.google.com/github/jakevdp/PythonDataScienceHandbook/blob/master/notebooks/01.06-Errors-and-Debugging.ipynb\"><img align=\"left\" src=\"https://colab.research.google.com/assets/colab-badge.svg\" alt=\"Open in Colab\" title=\"Open and Execute in Google Colaboratory\"></a>"
   ]
  }
 ],
 "metadata": {
  "anaconda-cloud": {},
  "application/vnd.databricks.v1+notebook": {
   "dashboards": [],
   "language": "python",
   "notebookMetadata": {},
   "notebookName": "01.06-Errors-and-Debugging",
   "notebookOrigID": 1239548511823471,
   "widgets": {}
  },
  "kernelspec": {
   "display_name": "Python 3",
   "language": "python",
   "name": "python3"
  },
  "language_info": {
   "codemirror_mode": {
    "name": "ipython",
    "version": 3
   },
   "file_extension": ".py",
   "mimetype": "text/x-python",
   "name": "python",
   "nbconvert_exporter": "python",
   "pygments_lexer": "ipython3",
   "version": "3.5.1"
  }
 },
 "nbformat": 4,
 "nbformat_minor": 0
}
